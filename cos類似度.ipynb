{
  "nbformat": 4,
  "nbformat_minor": 0,
  "metadata": {
    "colab": {
      "provenance": [],
      "authorship_tag": "ABX9TyN+NkbnAL6Q1b/hMUZWWQkT",
      "include_colab_link": true
    },
    "kernelspec": {
      "name": "python3",
      "display_name": "Python 3"
    },
    "language_info": {
      "name": "python"
    }
  },
  "cells": [
    {
      "cell_type": "markdown",
      "metadata": {
        "id": "view-in-github",
        "colab_type": "text"
      },
      "source": [
        "<a href=\"https://colab.research.google.com/github/jumpe1/learn/blob/main/cos%E9%A1%9E%E4%BC%BC%E5%BA%A6.ipynb\" target=\"_parent\"><img src=\"https://colab.research.google.com/assets/colab-badge.svg\" alt=\"Open In Colab\"/></a>"
      ]
    },
    {
      "cell_type": "code",
      "execution_count": null,
      "metadata": {
        "colab": {
          "base_uri": "https://localhost:8080/"
        },
        "id": "sh5OZu_lR1qR",
        "outputId": "895afb49-475f-4c16-c445-cdda1983c597"
      },
      "outputs": [
        {
          "output_type": "stream",
          "name": "stdout",
          "text": [
            "Requirement already satisfied: numpy in /usr/local/lib/python3.10/dist-packages (1.25.2)\n",
            "Requirement already satisfied: scikit-learn in /usr/local/lib/python3.10/dist-packages (1.2.2)\n",
            "Collecting janome\n",
            "  Downloading Janome-0.5.0-py2.py3-none-any.whl (19.7 MB)\n",
            "\u001b[2K     \u001b[90m━━━━━━━━━━━━━━━━━━━━━━━━━━━━━━━━━━━━━━━━\u001b[0m \u001b[32m19.7/19.7 MB\u001b[0m \u001b[31m41.5 MB/s\u001b[0m eta \u001b[36m0:00:00\u001b[0m\n",
            "\u001b[?25hRequirement already satisfied: scipy>=1.3.2 in /usr/local/lib/python3.10/dist-packages (from scikit-learn) (1.11.4)\n",
            "Requirement already satisfied: joblib>=1.1.1 in /usr/local/lib/python3.10/dist-packages (from scikit-learn) (1.4.0)\n",
            "Requirement already satisfied: threadpoolctl>=2.0.0 in /usr/local/lib/python3.10/dist-packages (from scikit-learn) (3.4.0)\n",
            "Installing collected packages: janome\n",
            "Successfully installed janome-0.5.0\n"
          ]
        }
      ],
      "source": [
        "!pip install numpy scikit-learn janome"
      ]
    },
    {
      "cell_type": "code",
      "source": [
        "from sklearn.feature_extraction.text import TfidfVectorizer\n",
        "from sklearn.metrics.pairwise import cosine_similarity\n",
        "\n",
        "def text_cosine_similarity(text1, text2):\n",
        "    # ベクトル化器の初期化\n",
        "    vectorizer = TfidfVectorizer()\n",
        "\n",
        "    # 両テキストを合わせてベクトル化\n",
        "    tfidf = vectorizer.fit_transform([text1, text2])\n",
        "    print(tfidf)\n",
        "\n",
        "    # コサイン類似度の計算\n",
        "    cosine_sim = cosine_similarity(tfidf[0:1], tfidf[1:2])\n",
        "\n",
        "    return cosine_sim[0][0]\n",
        "\n",
        "\n",
        "def print_vocabulary(text1, text2):\n",
        "    vectorizer = TfidfVectorizer()\n",
        "    vectorizer.fit_transform([text1, text2])\n",
        "    vocabulary = vectorizer.vocabulary_\n",
        "    # ボキャブラリーをインデックス順に並び替えて表示\n",
        "    sorted_vocab = sorted(vocabulary.items(), key=lambda item: item[1])\n",
        "    print(\"ボキャブラリーとインデックス:\")\n",
        "    for word, index in sorted_vocab:\n",
        "        print(f\"{word}: {index}\")\n",
        "\n",
        "\n",
        "text1 = \"I work in Tokyo as a software engineer.\"\n",
        "text2 = \"I work in Kanagawa as a sales person.\"\n",
        "\n",
        "# 類似度の計算\n",
        "similarity = text_cosine_similarity(text1, text2)\n",
        "print(f\"コサイン類似度: {similarity:.4f}\")\n",
        "\n",
        "# print_vocabulary(text1, text2)\n",
        "\n"
      ],
      "metadata": {
        "colab": {
          "base_uri": "https://localhost:8080/"
        },
        "id": "YVRpXirnSAyc",
        "outputId": "7ef979ab-cea2-4b8c-8864-dabe575c4578"
      },
      "execution_count": null,
      "outputs": [
        {
          "output_type": "stream",
          "name": "stdout",
          "text": [
            "  (0, 1)\t0.4704264280854632\n",
            "  (0, 6)\t0.4704264280854632\n",
            "  (0, 0)\t0.3347122780719073\n",
            "  (0, 7)\t0.4704264280854632\n",
            "  (0, 2)\t0.3347122780719073\n",
            "  (0, 8)\t0.3347122780719073\n",
            "  (1, 4)\t0.47042642808546326\n",
            "  (1, 5)\t0.47042642808546326\n",
            "  (1, 3)\t0.47042642808546326\n",
            "  (1, 0)\t0.33471227807190734\n",
            "  (1, 2)\t0.33471227807190734\n",
            "  (1, 8)\t0.33471227807190734\n",
            "コサイン類似度: 0.3361\n"
          ]
        }
      ]
    },
    {
      "cell_type": "code",
      "source": [
        "from janome.tokenizer import Tokenizer\n",
        "from sklearn.feature_extraction.text import TfidfVectorizer\n",
        "from sklearn.metrics.pairwise import cosine_similarity\n",
        "\n",
        "# Janomeのトークナイザーを定義\n",
        "tokenizer = Tokenizer()\n",
        "\n",
        "def tokenize(text):\n",
        "    return [token.surface for token in tokenizer.tokenize(text)]\n",
        "\n",
        "def text_similarity(text1, text2):\n",
        "    # ベクトルライザーをカスタムトークナイザー付きで定義\n",
        "    vectorizer = TfidfVectorizer(tokenizer=tokenize)\n",
        "\n",
        "    # 両テキストを合わせてベクトル化\n",
        "    tfidf = vectorizer.fit_transform([text1, text2])\n",
        "\n",
        "    # コサイン類似度を計算\n",
        "    sim = cosine_similarity(tfidf[0:1], tfidf[1:2])[0][0]\n",
        "\n",
        "    return sim\n",
        "\n",
        "# テキスト例\n",
        "text1 = \"昨日見た映画は本当に悪かった。\"\n",
        "text2 = \"昨日見た映画は本当に良かった。\"\n",
        "\n",
        "# 類似度の計算\n",
        "similarity = text_similarity(text1, text2)\n",
        "print(f\"類似度: {similarity}\")\n"
      ],
      "metadata": {
        "colab": {
          "base_uri": "https://localhost:8080/"
        },
        "id": "8vlS2KXWSnOQ",
        "outputId": "53bea143-a868-4111-bb32-bc7867d89323"
      },
      "execution_count": null,
      "outputs": [
        {
          "output_type": "stream",
          "name": "stdout",
          "text": [
            "類似度: 0.835049905752098\n"
          ]
        }
      ]
    }
  ]
}